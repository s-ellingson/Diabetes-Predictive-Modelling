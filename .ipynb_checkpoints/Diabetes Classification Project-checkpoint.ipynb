{
 "cells": [
  {
   "cell_type": "markdown",
   "id": "c3814eaf",
   "metadata": {},
   "source": [
    "## ISYE 6740 - Course Project: Classification Methods on Predicting Diabetes"
   ]
  },
  {
   "cell_type": "code",
   "execution_count": 142,
   "id": "2c3ead33",
   "metadata": {},
   "outputs": [],
   "source": [
    "# libraries for data reading, manipulation, scaling, and splitting\n",
    "import pandas as pd\n",
    "import numpy as np\n",
    "import matplotlib.pyplot as plt\n",
    "from sklearn.preprocessing import StandardScaler\n",
    "from sklearn.model_selection import train_test_split\n",
    "from sklearn.model_selection import cross_val_score, KFold\n",
    "\n",
    "# lasso regression library\n",
    "from sklearn.linear_model import Lasso\n",
    "\n",
    "# libraries for logistic regression models\n",
    "from sklearn.linear_model import LogisticRegression\n",
    "from sklearn.metrics import accuracy_score, roc_curve\n",
    "\n",
    "# libraries for comparative models\n",
    "from sklearn.model_selection import GridSearchCV\n",
    "from sklearn.neighbors import KNeighborsClassifier\n",
    "from sklearn.svm import SVC\n",
    "from sklearn.ensemble import RandomForestClassifier"
   ]
  },
  {
   "cell_type": "markdown",
   "id": "a4ed6f91",
   "metadata": {},
   "source": [
    "### Step 1. Load and Inspect Dataset"
   ]
  },
  {
   "cell_type": "code",
   "execution_count": 143,
   "id": "0eee2691",
   "metadata": {
    "scrolled": true
   },
   "outputs": [
    {
     "data": {
      "text/html": [
       "<div>\n",
       "<style scoped>\n",
       "    .dataframe tbody tr th:only-of-type {\n",
       "        vertical-align: middle;\n",
       "    }\n",
       "\n",
       "    .dataframe tbody tr th {\n",
       "        vertical-align: top;\n",
       "    }\n",
       "\n",
       "    .dataframe thead th {\n",
       "        text-align: right;\n",
       "    }\n",
       "</style>\n",
       "<table border=\"1\" class=\"dataframe\">\n",
       "  <thead>\n",
       "    <tr style=\"text-align: right;\">\n",
       "      <th></th>\n",
       "      <th>Pregnancies</th>\n",
       "      <th>Glucose</th>\n",
       "      <th>BloodPressure</th>\n",
       "      <th>SkinThickness</th>\n",
       "      <th>Insulin</th>\n",
       "      <th>BMI</th>\n",
       "      <th>DiabetesPedigreeFunction</th>\n",
       "      <th>Age</th>\n",
       "      <th>Outcome</th>\n",
       "    </tr>\n",
       "  </thead>\n",
       "  <tbody>\n",
       "    <tr>\n",
       "      <th>0</th>\n",
       "      <td>6</td>\n",
       "      <td>148</td>\n",
       "      <td>72</td>\n",
       "      <td>35</td>\n",
       "      <td>0</td>\n",
       "      <td>33.6</td>\n",
       "      <td>0.627</td>\n",
       "      <td>50</td>\n",
       "      <td>1</td>\n",
       "    </tr>\n",
       "    <tr>\n",
       "      <th>1</th>\n",
       "      <td>1</td>\n",
       "      <td>85</td>\n",
       "      <td>66</td>\n",
       "      <td>29</td>\n",
       "      <td>0</td>\n",
       "      <td>26.6</td>\n",
       "      <td>0.351</td>\n",
       "      <td>31</td>\n",
       "      <td>0</td>\n",
       "    </tr>\n",
       "    <tr>\n",
       "      <th>2</th>\n",
       "      <td>8</td>\n",
       "      <td>183</td>\n",
       "      <td>64</td>\n",
       "      <td>0</td>\n",
       "      <td>0</td>\n",
       "      <td>23.3</td>\n",
       "      <td>0.672</td>\n",
       "      <td>32</td>\n",
       "      <td>1</td>\n",
       "    </tr>\n",
       "    <tr>\n",
       "      <th>3</th>\n",
       "      <td>1</td>\n",
       "      <td>89</td>\n",
       "      <td>66</td>\n",
       "      <td>23</td>\n",
       "      <td>94</td>\n",
       "      <td>28.1</td>\n",
       "      <td>0.167</td>\n",
       "      <td>21</td>\n",
       "      <td>0</td>\n",
       "    </tr>\n",
       "    <tr>\n",
       "      <th>4</th>\n",
       "      <td>0</td>\n",
       "      <td>137</td>\n",
       "      <td>40</td>\n",
       "      <td>35</td>\n",
       "      <td>168</td>\n",
       "      <td>43.1</td>\n",
       "      <td>2.288</td>\n",
       "      <td>33</td>\n",
       "      <td>1</td>\n",
       "    </tr>\n",
       "  </tbody>\n",
       "</table>\n",
       "</div>"
      ],
      "text/plain": [
       "   Pregnancies  Glucose  BloodPressure  SkinThickness  Insulin   BMI  \\\n",
       "0            6      148             72             35        0  33.6   \n",
       "1            1       85             66             29        0  26.6   \n",
       "2            8      183             64              0        0  23.3   \n",
       "3            1       89             66             23       94  28.1   \n",
       "4            0      137             40             35      168  43.1   \n",
       "\n",
       "   DiabetesPedigreeFunction  Age  Outcome  \n",
       "0                     0.627   50        1  \n",
       "1                     0.351   31        0  \n",
       "2                     0.672   32        1  \n",
       "3                     0.167   21        0  \n",
       "4                     2.288   33        1  "
      ]
     },
     "execution_count": 143,
     "metadata": {},
     "output_type": "execute_result"
    }
   ],
   "source": [
    "diabetes_df = pd.read_csv(\"diabetes.csv\")\n",
    "diabetes_df.head()"
   ]
  },
  {
   "cell_type": "code",
   "execution_count": 144,
   "id": "95077c5b",
   "metadata": {},
   "outputs": [
    {
     "data": {
      "text/plain": [
       "(768, 9)"
      ]
     },
     "execution_count": 144,
     "metadata": {},
     "output_type": "execute_result"
    }
   ],
   "source": [
    "diabetes_df.shape"
   ]
  },
  {
   "cell_type": "code",
   "execution_count": 145,
   "id": "a05b163e",
   "metadata": {
    "scrolled": true
   },
   "outputs": [
    {
     "data": {
      "text/plain": [
       "0    500\n",
       "1    268\n",
       "Name: Outcome, dtype: int64"
      ]
     },
     "execution_count": 145,
     "metadata": {},
     "output_type": "execute_result"
    }
   ],
   "source": [
    "diabetes_df[\"Outcome\"].value_counts()"
   ]
  },
  {
   "cell_type": "code",
   "execution_count": 146,
   "id": "f7987963",
   "metadata": {},
   "outputs": [
    {
     "data": {
      "text/html": [
       "<div>\n",
       "<style scoped>\n",
       "    .dataframe tbody tr th:only-of-type {\n",
       "        vertical-align: middle;\n",
       "    }\n",
       "\n",
       "    .dataframe tbody tr th {\n",
       "        vertical-align: top;\n",
       "    }\n",
       "\n",
       "    .dataframe thead th {\n",
       "        text-align: right;\n",
       "    }\n",
       "</style>\n",
       "<table border=\"1\" class=\"dataframe\">\n",
       "  <thead>\n",
       "    <tr style=\"text-align: right;\">\n",
       "      <th></th>\n",
       "      <th>Pregnancies</th>\n",
       "      <th>Glucose</th>\n",
       "      <th>BloodPressure</th>\n",
       "      <th>SkinThickness</th>\n",
       "      <th>Insulin</th>\n",
       "      <th>BMI</th>\n",
       "      <th>DiabetesPedigreeFunction</th>\n",
       "      <th>Age</th>\n",
       "      <th>Outcome</th>\n",
       "    </tr>\n",
       "  </thead>\n",
       "  <tbody>\n",
       "    <tr>\n",
       "      <th>count</th>\n",
       "      <td>768.000000</td>\n",
       "      <td>768.000000</td>\n",
       "      <td>768.000000</td>\n",
       "      <td>768.000000</td>\n",
       "      <td>768.000000</td>\n",
       "      <td>768.000000</td>\n",
       "      <td>768.000000</td>\n",
       "      <td>768.000000</td>\n",
       "      <td>768.000000</td>\n",
       "    </tr>\n",
       "    <tr>\n",
       "      <th>mean</th>\n",
       "      <td>3.845052</td>\n",
       "      <td>120.894531</td>\n",
       "      <td>69.105469</td>\n",
       "      <td>20.536458</td>\n",
       "      <td>79.799479</td>\n",
       "      <td>31.992578</td>\n",
       "      <td>0.471876</td>\n",
       "      <td>33.240885</td>\n",
       "      <td>0.348958</td>\n",
       "    </tr>\n",
       "    <tr>\n",
       "      <th>std</th>\n",
       "      <td>3.369578</td>\n",
       "      <td>31.972618</td>\n",
       "      <td>19.355807</td>\n",
       "      <td>15.952218</td>\n",
       "      <td>115.244002</td>\n",
       "      <td>7.884160</td>\n",
       "      <td>0.331329</td>\n",
       "      <td>11.760232</td>\n",
       "      <td>0.476951</td>\n",
       "    </tr>\n",
       "    <tr>\n",
       "      <th>min</th>\n",
       "      <td>0.000000</td>\n",
       "      <td>0.000000</td>\n",
       "      <td>0.000000</td>\n",
       "      <td>0.000000</td>\n",
       "      <td>0.000000</td>\n",
       "      <td>0.000000</td>\n",
       "      <td>0.078000</td>\n",
       "      <td>21.000000</td>\n",
       "      <td>0.000000</td>\n",
       "    </tr>\n",
       "    <tr>\n",
       "      <th>25%</th>\n",
       "      <td>1.000000</td>\n",
       "      <td>99.000000</td>\n",
       "      <td>62.000000</td>\n",
       "      <td>0.000000</td>\n",
       "      <td>0.000000</td>\n",
       "      <td>27.300000</td>\n",
       "      <td>0.243750</td>\n",
       "      <td>24.000000</td>\n",
       "      <td>0.000000</td>\n",
       "    </tr>\n",
       "    <tr>\n",
       "      <th>50%</th>\n",
       "      <td>3.000000</td>\n",
       "      <td>117.000000</td>\n",
       "      <td>72.000000</td>\n",
       "      <td>23.000000</td>\n",
       "      <td>30.500000</td>\n",
       "      <td>32.000000</td>\n",
       "      <td>0.372500</td>\n",
       "      <td>29.000000</td>\n",
       "      <td>0.000000</td>\n",
       "    </tr>\n",
       "    <tr>\n",
       "      <th>75%</th>\n",
       "      <td>6.000000</td>\n",
       "      <td>140.250000</td>\n",
       "      <td>80.000000</td>\n",
       "      <td>32.000000</td>\n",
       "      <td>127.250000</td>\n",
       "      <td>36.600000</td>\n",
       "      <td>0.626250</td>\n",
       "      <td>41.000000</td>\n",
       "      <td>1.000000</td>\n",
       "    </tr>\n",
       "    <tr>\n",
       "      <th>max</th>\n",
       "      <td>17.000000</td>\n",
       "      <td>199.000000</td>\n",
       "      <td>122.000000</td>\n",
       "      <td>99.000000</td>\n",
       "      <td>846.000000</td>\n",
       "      <td>67.100000</td>\n",
       "      <td>2.420000</td>\n",
       "      <td>81.000000</td>\n",
       "      <td>1.000000</td>\n",
       "    </tr>\n",
       "  </tbody>\n",
       "</table>\n",
       "</div>"
      ],
      "text/plain": [
       "       Pregnancies     Glucose  BloodPressure  SkinThickness     Insulin  \\\n",
       "count   768.000000  768.000000     768.000000     768.000000  768.000000   \n",
       "mean      3.845052  120.894531      69.105469      20.536458   79.799479   \n",
       "std       3.369578   31.972618      19.355807      15.952218  115.244002   \n",
       "min       0.000000    0.000000       0.000000       0.000000    0.000000   \n",
       "25%       1.000000   99.000000      62.000000       0.000000    0.000000   \n",
       "50%       3.000000  117.000000      72.000000      23.000000   30.500000   \n",
       "75%       6.000000  140.250000      80.000000      32.000000  127.250000   \n",
       "max      17.000000  199.000000     122.000000      99.000000  846.000000   \n",
       "\n",
       "              BMI  DiabetesPedigreeFunction         Age     Outcome  \n",
       "count  768.000000                768.000000  768.000000  768.000000  \n",
       "mean    31.992578                  0.471876   33.240885    0.348958  \n",
       "std      7.884160                  0.331329   11.760232    0.476951  \n",
       "min      0.000000                  0.078000   21.000000    0.000000  \n",
       "25%     27.300000                  0.243750   24.000000    0.000000  \n",
       "50%     32.000000                  0.372500   29.000000    0.000000  \n",
       "75%     36.600000                  0.626250   41.000000    1.000000  \n",
       "max     67.100000                  2.420000   81.000000    1.000000  "
      ]
     },
     "execution_count": 146,
     "metadata": {},
     "output_type": "execute_result"
    }
   ],
   "source": [
    "diabetes_df.describe()"
   ]
  },
  {
   "cell_type": "code",
   "execution_count": 147,
   "id": "5ae17a35",
   "metadata": {},
   "outputs": [
    {
     "data": {
      "text/html": [
       "<style type=\"text/css\">\n",
       "#T_c5015_row0_col0, #T_c5015_row1_col1, #T_c5015_row2_col2, #T_c5015_row3_col3, #T_c5015_row4_col4, #T_c5015_row5_col5, #T_c5015_row6_col6, #T_c5015_row7_col7, #T_c5015_row8_col8 {\n",
       "  background-color: #b40426;\n",
       "  color: #f1f1f1;\n",
       "}\n",
       "#T_c5015_row0_col1 {\n",
       "  background-color: #516ddb;\n",
       "  color: #f1f1f1;\n",
       "}\n",
       "#T_c5015_row0_col2 {\n",
       "  background-color: #5a78e4;\n",
       "  color: #f1f1f1;\n",
       "}\n",
       "#T_c5015_row0_col3, #T_c5015_row7_col4 {\n",
       "  background-color: #4358cb;\n",
       "  color: #f1f1f1;\n",
       "}\n",
       "#T_c5015_row0_col4, #T_c5015_row0_col5, #T_c5015_row0_col6, #T_c5015_row2_col8, #T_c5015_row3_col0, #T_c5015_row3_col1, #T_c5015_row3_col7, #T_c5015_row6_col2, #T_c5015_row7_col3 {\n",
       "  background-color: #3b4cc0;\n",
       "  color: #f1f1f1;\n",
       "}\n",
       "#T_c5015_row0_col7 {\n",
       "  background-color: #f1cdba;\n",
       "  color: #000000;\n",
       "}\n",
       "#T_c5015_row0_col8, #T_c5015_row1_col6 {\n",
       "  background-color: #6f92f3;\n",
       "  color: #f1f1f1;\n",
       "}\n",
       "#T_c5015_row1_col0 {\n",
       "  background-color: #799cf8;\n",
       "  color: #f1f1f1;\n",
       "}\n",
       "#T_c5015_row1_col2, #T_c5015_row6_col8 {\n",
       "  background-color: #5e7de7;\n",
       "  color: #f1f1f1;\n",
       "}\n",
       "#T_c5015_row1_col3 {\n",
       "  background-color: #6b8df0;\n",
       "  color: #f1f1f1;\n",
       "}\n",
       "#T_c5015_row1_col4 {\n",
       "  background-color: #b9d0f9;\n",
       "  color: #000000;\n",
       "}\n",
       "#T_c5015_row1_col5, #T_c5015_row3_col6 {\n",
       "  background-color: #7ea1fa;\n",
       "  color: #f1f1f1;\n",
       "}\n",
       "#T_c5015_row1_col7 {\n",
       "  background-color: #abc8fd;\n",
       "  color: #000000;\n",
       "}\n",
       "#T_c5015_row1_col8 {\n",
       "  background-color: #c9d7f0;\n",
       "  color: #000000;\n",
       "}\n",
       "#T_c5015_row2_col0, #T_c5015_row7_col2 {\n",
       "  background-color: #7da0f9;\n",
       "  color: #f1f1f1;\n",
       "}\n",
       "#T_c5015_row2_col1 {\n",
       "  background-color: #5977e3;\n",
       "  color: #f1f1f1;\n",
       "}\n",
       "#T_c5015_row2_col3 {\n",
       "  background-color: #9abbff;\n",
       "  color: #000000;\n",
       "}\n",
       "#T_c5015_row2_col4 {\n",
       "  background-color: #6a8bef;\n",
       "  color: #f1f1f1;\n",
       "}\n",
       "#T_c5015_row2_col5, #T_c5015_row6_col3 {\n",
       "  background-color: #93b5fe;\n",
       "  color: #000000;\n",
       "}\n",
       "#T_c5015_row2_col6 {\n",
       "  background-color: #506bda;\n",
       "  color: #f1f1f1;\n",
       "}\n",
       "#T_c5015_row2_col7 {\n",
       "  background-color: #a5c3fe;\n",
       "  color: #000000;\n",
       "}\n",
       "#T_c5015_row3_col2, #T_c5015_row5_col1 {\n",
       "  background-color: #7295f4;\n",
       "  color: #f1f1f1;\n",
       "}\n",
       "#T_c5015_row3_col4 {\n",
       "  background-color: #d6dce4;\n",
       "  color: #000000;\n",
       "}\n",
       "#T_c5015_row3_col5 {\n",
       "  background-color: #bad0f8;\n",
       "  color: #000000;\n",
       "}\n",
       "#T_c5015_row3_col8 {\n",
       "  background-color: #3d50c3;\n",
       "  color: #f1f1f1;\n",
       "}\n",
       "#T_c5015_row4_col0 {\n",
       "  background-color: #3c4ec2;\n",
       "  color: #f1f1f1;\n",
       "}\n",
       "#T_c5015_row4_col1 {\n",
       "  background-color: #9bbcff;\n",
       "  color: #000000;\n",
       "}\n",
       "#T_c5015_row4_col2 {\n",
       "  background-color: #4961d2;\n",
       "  color: #f1f1f1;\n",
       "}\n",
       "#T_c5015_row4_col3 {\n",
       "  background-color: #dbdcde;\n",
       "  color: #000000;\n",
       "}\n",
       "#T_c5015_row4_col5 {\n",
       "  background-color: #7597f6;\n",
       "  color: #f1f1f1;\n",
       "}\n",
       "#T_c5015_row4_col6 {\n",
       "  background-color: #80a3fa;\n",
       "  color: #f1f1f1;\n",
       "}\n",
       "#T_c5015_row4_col7, #T_c5015_row7_col6 {\n",
       "  background-color: #4e68d8;\n",
       "  color: #f1f1f1;\n",
       "}\n",
       "#T_c5015_row4_col8 {\n",
       "  background-color: #4f69d9;\n",
       "  color: #f1f1f1;\n",
       "}\n",
       "#T_c5015_row5_col0 {\n",
       "  background-color: #5673e0;\n",
       "  color: #f1f1f1;\n",
       "}\n",
       "#T_c5015_row5_col2, #T_c5015_row5_col4 {\n",
       "  background-color: #8db0fe;\n",
       "  color: #000000;\n",
       "}\n",
       "#T_c5015_row5_col3 {\n",
       "  background-color: #d1dae9;\n",
       "  color: #000000;\n",
       "}\n",
       "#T_c5015_row5_col6, #T_c5015_row8_col3 {\n",
       "  background-color: #7093f3;\n",
       "  color: #f1f1f1;\n",
       "}\n",
       "#T_c5015_row5_col7 {\n",
       "  background-color: #6485ec;\n",
       "  color: #f1f1f1;\n",
       "}\n",
       "#T_c5015_row5_col8 {\n",
       "  background-color: #8badfd;\n",
       "  color: #000000;\n",
       "}\n",
       "#T_c5015_row6_col0 {\n",
       "  background-color: #485fd1;\n",
       "  color: #f1f1f1;\n",
       "}\n",
       "#T_c5015_row6_col1 {\n",
       "  background-color: #5470de;\n",
       "  color: #f1f1f1;\n",
       "}\n",
       "#T_c5015_row6_col4 {\n",
       "  background-color: #89acfd;\n",
       "  color: #000000;\n",
       "}\n",
       "#T_c5015_row6_col5 {\n",
       "  background-color: #6282ea;\n",
       "  color: #f1f1f1;\n",
       "}\n",
       "#T_c5015_row6_col7 {\n",
       "  background-color: #6384eb;\n",
       "  color: #f1f1f1;\n",
       "}\n",
       "#T_c5015_row7_col0 {\n",
       "  background-color: #efcfbf;\n",
       "  color: #000000;\n",
       "}\n",
       "#T_c5015_row7_col1 {\n",
       "  background-color: #81a4fb;\n",
       "  color: #f1f1f1;\n",
       "}\n",
       "#T_c5015_row7_col5 {\n",
       "  background-color: #3f53c6;\n",
       "  color: #f1f1f1;\n",
       "}\n",
       "#T_c5015_row7_col8 {\n",
       "  background-color: #7699f6;\n",
       "  color: #f1f1f1;\n",
       "}\n",
       "#T_c5015_row8_col0, #T_c5015_row8_col5 {\n",
       "  background-color: #97b8ff;\n",
       "  color: #000000;\n",
       "}\n",
       "#T_c5015_row8_col1 {\n",
       "  background-color: #cbd8ee;\n",
       "  color: #000000;\n",
       "}\n",
       "#T_c5015_row8_col2 {\n",
       "  background-color: #4257c9;\n",
       "  color: #f1f1f1;\n",
       "}\n",
       "#T_c5015_row8_col4 {\n",
       "  background-color: #779af7;\n",
       "  color: #f1f1f1;\n",
       "}\n",
       "#T_c5015_row8_col6 {\n",
       "  background-color: #7b9ff9;\n",
       "  color: #f1f1f1;\n",
       "}\n",
       "#T_c5015_row8_col7 {\n",
       "  background-color: #a3c2fe;\n",
       "  color: #000000;\n",
       "}\n",
       "</style>\n",
       "<table id=\"T_c5015\">\n",
       "  <thead>\n",
       "    <tr>\n",
       "      <th class=\"blank level0\" >&nbsp;</th>\n",
       "      <th id=\"T_c5015_level0_col0\" class=\"col_heading level0 col0\" >Pregnancies</th>\n",
       "      <th id=\"T_c5015_level0_col1\" class=\"col_heading level0 col1\" >Glucose</th>\n",
       "      <th id=\"T_c5015_level0_col2\" class=\"col_heading level0 col2\" >BloodPressure</th>\n",
       "      <th id=\"T_c5015_level0_col3\" class=\"col_heading level0 col3\" >SkinThickness</th>\n",
       "      <th id=\"T_c5015_level0_col4\" class=\"col_heading level0 col4\" >Insulin</th>\n",
       "      <th id=\"T_c5015_level0_col5\" class=\"col_heading level0 col5\" >BMI</th>\n",
       "      <th id=\"T_c5015_level0_col6\" class=\"col_heading level0 col6\" >DiabetesPedigreeFunction</th>\n",
       "      <th id=\"T_c5015_level0_col7\" class=\"col_heading level0 col7\" >Age</th>\n",
       "      <th id=\"T_c5015_level0_col8\" class=\"col_heading level0 col8\" >Outcome</th>\n",
       "    </tr>\n",
       "  </thead>\n",
       "  <tbody>\n",
       "    <tr>\n",
       "      <th id=\"T_c5015_level0_row0\" class=\"row_heading level0 row0\" >Pregnancies</th>\n",
       "      <td id=\"T_c5015_row0_col0\" class=\"data row0 col0\" >1.000000</td>\n",
       "      <td id=\"T_c5015_row0_col1\" class=\"data row0 col1\" >0.129459</td>\n",
       "      <td id=\"T_c5015_row0_col2\" class=\"data row0 col2\" >0.141282</td>\n",
       "      <td id=\"T_c5015_row0_col3\" class=\"data row0 col3\" >-0.081672</td>\n",
       "      <td id=\"T_c5015_row0_col4\" class=\"data row0 col4\" >-0.073535</td>\n",
       "      <td id=\"T_c5015_row0_col5\" class=\"data row0 col5\" >0.017683</td>\n",
       "      <td id=\"T_c5015_row0_col6\" class=\"data row0 col6\" >-0.033523</td>\n",
       "      <td id=\"T_c5015_row0_col7\" class=\"data row0 col7\" >0.544341</td>\n",
       "      <td id=\"T_c5015_row0_col8\" class=\"data row0 col8\" >0.221898</td>\n",
       "    </tr>\n",
       "    <tr>\n",
       "      <th id=\"T_c5015_level0_row1\" class=\"row_heading level0 row1\" >Glucose</th>\n",
       "      <td id=\"T_c5015_row1_col0\" class=\"data row1 col0\" >0.129459</td>\n",
       "      <td id=\"T_c5015_row1_col1\" class=\"data row1 col1\" >1.000000</td>\n",
       "      <td id=\"T_c5015_row1_col2\" class=\"data row1 col2\" >0.152590</td>\n",
       "      <td id=\"T_c5015_row1_col3\" class=\"data row1 col3\" >0.057328</td>\n",
       "      <td id=\"T_c5015_row1_col4\" class=\"data row1 col4\" >0.331357</td>\n",
       "      <td id=\"T_c5015_row1_col5\" class=\"data row1 col5\" >0.221071</td>\n",
       "      <td id=\"T_c5015_row1_col6\" class=\"data row1 col6\" >0.137337</td>\n",
       "      <td id=\"T_c5015_row1_col7\" class=\"data row1 col7\" >0.263514</td>\n",
       "      <td id=\"T_c5015_row1_col8\" class=\"data row1 col8\" >0.466581</td>\n",
       "    </tr>\n",
       "    <tr>\n",
       "      <th id=\"T_c5015_level0_row2\" class=\"row_heading level0 row2\" >BloodPressure</th>\n",
       "      <td id=\"T_c5015_row2_col0\" class=\"data row2 col0\" >0.141282</td>\n",
       "      <td id=\"T_c5015_row2_col1\" class=\"data row2 col1\" >0.152590</td>\n",
       "      <td id=\"T_c5015_row2_col2\" class=\"data row2 col2\" >1.000000</td>\n",
       "      <td id=\"T_c5015_row2_col3\" class=\"data row2 col3\" >0.207371</td>\n",
       "      <td id=\"T_c5015_row2_col4\" class=\"data row2 col4\" >0.088933</td>\n",
       "      <td id=\"T_c5015_row2_col5\" class=\"data row2 col5\" >0.281805</td>\n",
       "      <td id=\"T_c5015_row2_col6\" class=\"data row2 col6\" >0.041265</td>\n",
       "      <td id=\"T_c5015_row2_col7\" class=\"data row2 col7\" >0.239528</td>\n",
       "      <td id=\"T_c5015_row2_col8\" class=\"data row2 col8\" >0.065068</td>\n",
       "    </tr>\n",
       "    <tr>\n",
       "      <th id=\"T_c5015_level0_row3\" class=\"row_heading level0 row3\" >SkinThickness</th>\n",
       "      <td id=\"T_c5015_row3_col0\" class=\"data row3 col0\" >-0.081672</td>\n",
       "      <td id=\"T_c5015_row3_col1\" class=\"data row3 col1\" >0.057328</td>\n",
       "      <td id=\"T_c5015_row3_col2\" class=\"data row3 col2\" >0.207371</td>\n",
       "      <td id=\"T_c5015_row3_col3\" class=\"data row3 col3\" >1.000000</td>\n",
       "      <td id=\"T_c5015_row3_col4\" class=\"data row3 col4\" >0.436783</td>\n",
       "      <td id=\"T_c5015_row3_col5\" class=\"data row3 col5\" >0.392573</td>\n",
       "      <td id=\"T_c5015_row3_col6\" class=\"data row3 col6\" >0.183928</td>\n",
       "      <td id=\"T_c5015_row3_col7\" class=\"data row3 col7\" >-0.113970</td>\n",
       "      <td id=\"T_c5015_row3_col8\" class=\"data row3 col8\" >0.074752</td>\n",
       "    </tr>\n",
       "    <tr>\n",
       "      <th id=\"T_c5015_level0_row4\" class=\"row_heading level0 row4\" >Insulin</th>\n",
       "      <td id=\"T_c5015_row4_col0\" class=\"data row4 col0\" >-0.073535</td>\n",
       "      <td id=\"T_c5015_row4_col1\" class=\"data row4 col1\" >0.331357</td>\n",
       "      <td id=\"T_c5015_row4_col2\" class=\"data row4 col2\" >0.088933</td>\n",
       "      <td id=\"T_c5015_row4_col3\" class=\"data row4 col3\" >0.436783</td>\n",
       "      <td id=\"T_c5015_row4_col4\" class=\"data row4 col4\" >1.000000</td>\n",
       "      <td id=\"T_c5015_row4_col5\" class=\"data row4 col5\" >0.197859</td>\n",
       "      <td id=\"T_c5015_row4_col6\" class=\"data row4 col6\" >0.185071</td>\n",
       "      <td id=\"T_c5015_row4_col7\" class=\"data row4 col7\" >-0.042163</td>\n",
       "      <td id=\"T_c5015_row4_col8\" class=\"data row4 col8\" >0.130548</td>\n",
       "    </tr>\n",
       "    <tr>\n",
       "      <th id=\"T_c5015_level0_row5\" class=\"row_heading level0 row5\" >BMI</th>\n",
       "      <td id=\"T_c5015_row5_col0\" class=\"data row5 col0\" >0.017683</td>\n",
       "      <td id=\"T_c5015_row5_col1\" class=\"data row5 col1\" >0.221071</td>\n",
       "      <td id=\"T_c5015_row5_col2\" class=\"data row5 col2\" >0.281805</td>\n",
       "      <td id=\"T_c5015_row5_col3\" class=\"data row5 col3\" >0.392573</td>\n",
       "      <td id=\"T_c5015_row5_col4\" class=\"data row5 col4\" >0.197859</td>\n",
       "      <td id=\"T_c5015_row5_col5\" class=\"data row5 col5\" >1.000000</td>\n",
       "      <td id=\"T_c5015_row5_col6\" class=\"data row5 col6\" >0.140647</td>\n",
       "      <td id=\"T_c5015_row5_col7\" class=\"data row5 col7\" >0.036242</td>\n",
       "      <td id=\"T_c5015_row5_col8\" class=\"data row5 col8\" >0.292695</td>\n",
       "    </tr>\n",
       "    <tr>\n",
       "      <th id=\"T_c5015_level0_row6\" class=\"row_heading level0 row6\" >DiabetesPedigreeFunction</th>\n",
       "      <td id=\"T_c5015_row6_col0\" class=\"data row6 col0\" >-0.033523</td>\n",
       "      <td id=\"T_c5015_row6_col1\" class=\"data row6 col1\" >0.137337</td>\n",
       "      <td id=\"T_c5015_row6_col2\" class=\"data row6 col2\" >0.041265</td>\n",
       "      <td id=\"T_c5015_row6_col3\" class=\"data row6 col3\" >0.183928</td>\n",
       "      <td id=\"T_c5015_row6_col4\" class=\"data row6 col4\" >0.185071</td>\n",
       "      <td id=\"T_c5015_row6_col5\" class=\"data row6 col5\" >0.140647</td>\n",
       "      <td id=\"T_c5015_row6_col6\" class=\"data row6 col6\" >1.000000</td>\n",
       "      <td id=\"T_c5015_row6_col7\" class=\"data row6 col7\" >0.033561</td>\n",
       "      <td id=\"T_c5015_row6_col8\" class=\"data row6 col8\" >0.173844</td>\n",
       "    </tr>\n",
       "    <tr>\n",
       "      <th id=\"T_c5015_level0_row7\" class=\"row_heading level0 row7\" >Age</th>\n",
       "      <td id=\"T_c5015_row7_col0\" class=\"data row7 col0\" >0.544341</td>\n",
       "      <td id=\"T_c5015_row7_col1\" class=\"data row7 col1\" >0.263514</td>\n",
       "      <td id=\"T_c5015_row7_col2\" class=\"data row7 col2\" >0.239528</td>\n",
       "      <td id=\"T_c5015_row7_col3\" class=\"data row7 col3\" >-0.113970</td>\n",
       "      <td id=\"T_c5015_row7_col4\" class=\"data row7 col4\" >-0.042163</td>\n",
       "      <td id=\"T_c5015_row7_col5\" class=\"data row7 col5\" >0.036242</td>\n",
       "      <td id=\"T_c5015_row7_col6\" class=\"data row7 col6\" >0.033561</td>\n",
       "      <td id=\"T_c5015_row7_col7\" class=\"data row7 col7\" >1.000000</td>\n",
       "      <td id=\"T_c5015_row7_col8\" class=\"data row7 col8\" >0.238356</td>\n",
       "    </tr>\n",
       "    <tr>\n",
       "      <th id=\"T_c5015_level0_row8\" class=\"row_heading level0 row8\" >Outcome</th>\n",
       "      <td id=\"T_c5015_row8_col0\" class=\"data row8 col0\" >0.221898</td>\n",
       "      <td id=\"T_c5015_row8_col1\" class=\"data row8 col1\" >0.466581</td>\n",
       "      <td id=\"T_c5015_row8_col2\" class=\"data row8 col2\" >0.065068</td>\n",
       "      <td id=\"T_c5015_row8_col3\" class=\"data row8 col3\" >0.074752</td>\n",
       "      <td id=\"T_c5015_row8_col4\" class=\"data row8 col4\" >0.130548</td>\n",
       "      <td id=\"T_c5015_row8_col5\" class=\"data row8 col5\" >0.292695</td>\n",
       "      <td id=\"T_c5015_row8_col6\" class=\"data row8 col6\" >0.173844</td>\n",
       "      <td id=\"T_c5015_row8_col7\" class=\"data row8 col7\" >0.238356</td>\n",
       "      <td id=\"T_c5015_row8_col8\" class=\"data row8 col8\" >1.000000</td>\n",
       "    </tr>\n",
       "  </tbody>\n",
       "</table>\n"
      ],
      "text/plain": [
       "<pandas.io.formats.style.Styler at 0x244e8ca75e0>"
      ]
     },
     "execution_count": 147,
     "metadata": {},
     "output_type": "execute_result"
    }
   ],
   "source": [
    "# Test for correlation.\n",
    "corr = diabetes_df.corr()\n",
    "corr.style.background_gradient(cmap='coolwarm')"
   ]
  },
  {
   "cell_type": "markdown",
   "id": "1ece4b92",
   "metadata": {},
   "source": [
    "Upon inspection, the only potential correlation would be between variables age and pregnancies, and this level would not be high enough to warrant variable elimination."
   ]
  },
  {
   "cell_type": "markdown",
   "id": "9001b4fd",
   "metadata": {},
   "source": [
    "### Step 2. Transform Dataset, Split into Train/Test Subsets, Run LASSO Regression"
   ]
  },
  {
   "cell_type": "markdown",
   "id": "c4badfd6",
   "metadata": {},
   "source": [
    "Upon initial inspection, there are 768 data points, with 500 for no diabetes and 268 for diabetes. The data has already been cleaned, but we'll need to standardize attributes before modelling."
   ]
  },
  {
   "cell_type": "code",
   "execution_count": 148,
   "id": "25015178",
   "metadata": {
    "scrolled": true
   },
   "outputs": [
    {
     "data": {
      "text/html": [
       "<div>\n",
       "<style scoped>\n",
       "    .dataframe tbody tr th:only-of-type {\n",
       "        vertical-align: middle;\n",
       "    }\n",
       "\n",
       "    .dataframe tbody tr th {\n",
       "        vertical-align: top;\n",
       "    }\n",
       "\n",
       "    .dataframe thead th {\n",
       "        text-align: right;\n",
       "    }\n",
       "</style>\n",
       "<table border=\"1\" class=\"dataframe\">\n",
       "  <thead>\n",
       "    <tr style=\"text-align: right;\">\n",
       "      <th></th>\n",
       "      <th>Pregnancies</th>\n",
       "      <th>Glucose</th>\n",
       "      <th>BloodPressure</th>\n",
       "      <th>SkinThickness</th>\n",
       "      <th>Insulin</th>\n",
       "      <th>BMI</th>\n",
       "      <th>DiabetesPedigreeFunction</th>\n",
       "      <th>Age</th>\n",
       "      <th>Outcome</th>\n",
       "    </tr>\n",
       "  </thead>\n",
       "  <tbody>\n",
       "    <tr>\n",
       "      <th>count</th>\n",
       "      <td>7.680000e+02</td>\n",
       "      <td>7.680000e+02</td>\n",
       "      <td>7.680000e+02</td>\n",
       "      <td>7.680000e+02</td>\n",
       "      <td>7.680000e+02</td>\n",
       "      <td>7.680000e+02</td>\n",
       "      <td>7.680000e+02</td>\n",
       "      <td>7.680000e+02</td>\n",
       "      <td>768.000000</td>\n",
       "    </tr>\n",
       "    <tr>\n",
       "      <th>mean</th>\n",
       "      <td>-6.476301e-17</td>\n",
       "      <td>-9.251859e-18</td>\n",
       "      <td>1.503427e-17</td>\n",
       "      <td>1.006140e-16</td>\n",
       "      <td>-3.006854e-17</td>\n",
       "      <td>2.590520e-16</td>\n",
       "      <td>2.451743e-16</td>\n",
       "      <td>1.931325e-16</td>\n",
       "      <td>0.348958</td>\n",
       "    </tr>\n",
       "    <tr>\n",
       "      <th>std</th>\n",
       "      <td>1.000652e+00</td>\n",
       "      <td>1.000652e+00</td>\n",
       "      <td>1.000652e+00</td>\n",
       "      <td>1.000652e+00</td>\n",
       "      <td>1.000652e+00</td>\n",
       "      <td>1.000652e+00</td>\n",
       "      <td>1.000652e+00</td>\n",
       "      <td>1.000652e+00</td>\n",
       "      <td>0.476951</td>\n",
       "    </tr>\n",
       "    <tr>\n",
       "      <th>min</th>\n",
       "      <td>-1.141852e+00</td>\n",
       "      <td>-3.783654e+00</td>\n",
       "      <td>-3.572597e+00</td>\n",
       "      <td>-1.288212e+00</td>\n",
       "      <td>-6.928906e-01</td>\n",
       "      <td>-4.060474e+00</td>\n",
       "      <td>-1.189553e+00</td>\n",
       "      <td>-1.041549e+00</td>\n",
       "      <td>0.000000</td>\n",
       "    </tr>\n",
       "    <tr>\n",
       "      <th>25%</th>\n",
       "      <td>-8.448851e-01</td>\n",
       "      <td>-6.852363e-01</td>\n",
       "      <td>-3.673367e-01</td>\n",
       "      <td>-1.288212e+00</td>\n",
       "      <td>-6.928906e-01</td>\n",
       "      <td>-5.955785e-01</td>\n",
       "      <td>-6.889685e-01</td>\n",
       "      <td>-7.862862e-01</td>\n",
       "      <td>0.000000</td>\n",
       "    </tr>\n",
       "    <tr>\n",
       "      <th>50%</th>\n",
       "      <td>-2.509521e-01</td>\n",
       "      <td>-1.218877e-01</td>\n",
       "      <td>1.496408e-01</td>\n",
       "      <td>1.545332e-01</td>\n",
       "      <td>-4.280622e-01</td>\n",
       "      <td>9.419788e-04</td>\n",
       "      <td>-3.001282e-01</td>\n",
       "      <td>-3.608474e-01</td>\n",
       "      <td>0.000000</td>\n",
       "    </tr>\n",
       "    <tr>\n",
       "      <th>75%</th>\n",
       "      <td>6.399473e-01</td>\n",
       "      <td>6.057709e-01</td>\n",
       "      <td>5.632228e-01</td>\n",
       "      <td>7.190857e-01</td>\n",
       "      <td>4.120079e-01</td>\n",
       "      <td>5.847705e-01</td>\n",
       "      <td>4.662269e-01</td>\n",
       "      <td>6.602056e-01</td>\n",
       "      <td>1.000000</td>\n",
       "    </tr>\n",
       "    <tr>\n",
       "      <th>max</th>\n",
       "      <td>3.906578e+00</td>\n",
       "      <td>2.444478e+00</td>\n",
       "      <td>2.734528e+00</td>\n",
       "      <td>4.921866e+00</td>\n",
       "      <td>6.652839e+00</td>\n",
       "      <td>4.455807e+00</td>\n",
       "      <td>5.883565e+00</td>\n",
       "      <td>4.063716e+00</td>\n",
       "      <td>1.000000</td>\n",
       "    </tr>\n",
       "  </tbody>\n",
       "</table>\n",
       "</div>"
      ],
      "text/plain": [
       "        Pregnancies       Glucose  BloodPressure  SkinThickness       Insulin  \\\n",
       "count  7.680000e+02  7.680000e+02   7.680000e+02   7.680000e+02  7.680000e+02   \n",
       "mean  -6.476301e-17 -9.251859e-18   1.503427e-17   1.006140e-16 -3.006854e-17   \n",
       "std    1.000652e+00  1.000652e+00   1.000652e+00   1.000652e+00  1.000652e+00   \n",
       "min   -1.141852e+00 -3.783654e+00  -3.572597e+00  -1.288212e+00 -6.928906e-01   \n",
       "25%   -8.448851e-01 -6.852363e-01  -3.673367e-01  -1.288212e+00 -6.928906e-01   \n",
       "50%   -2.509521e-01 -1.218877e-01   1.496408e-01   1.545332e-01 -4.280622e-01   \n",
       "75%    6.399473e-01  6.057709e-01   5.632228e-01   7.190857e-01  4.120079e-01   \n",
       "max    3.906578e+00  2.444478e+00   2.734528e+00   4.921866e+00  6.652839e+00   \n",
       "\n",
       "                BMI  DiabetesPedigreeFunction           Age     Outcome  \n",
       "count  7.680000e+02              7.680000e+02  7.680000e+02  768.000000  \n",
       "mean   2.590520e-16              2.451743e-16  1.931325e-16    0.348958  \n",
       "std    1.000652e+00              1.000652e+00  1.000652e+00    0.476951  \n",
       "min   -4.060474e+00             -1.189553e+00 -1.041549e+00    0.000000  \n",
       "25%   -5.955785e-01             -6.889685e-01 -7.862862e-01    0.000000  \n",
       "50%    9.419788e-04             -3.001282e-01 -3.608474e-01    0.000000  \n",
       "75%    5.847705e-01              4.662269e-01  6.602056e-01    1.000000  \n",
       "max    4.455807e+00              5.883565e+00  4.063716e+00    1.000000  "
      ]
     },
     "execution_count": 148,
     "metadata": {},
     "output_type": "execute_result"
    }
   ],
   "source": [
    "# Scale all predictor variables.\n",
    "col_to_scale = ['Pregnancies', 'Glucose', 'BloodPressure', 'SkinThickness', 'Insulin', 'BMI', 'DiabetesPedigreeFunction', 'Age']\n",
    "stand_scaler = StandardScaler()\n",
    "diabetes_df[col_to_scale] = stand_scaler.fit_transform(diabetes_df[col_to_scale])\n",
    "diabetes_df.describe()"
   ]
  },
  {
   "cell_type": "code",
   "execution_count": 149,
   "id": "d3cd57a8",
   "metadata": {},
   "outputs": [
    {
     "data": {
      "text/plain": [
       "((614, 8), (154, 8))"
      ]
     },
     "execution_count": 149,
     "metadata": {},
     "output_type": "execute_result"
    }
   ],
   "source": [
    "# Split dataset. 80% for train, 20% for test\n",
    "X = diabetes_df.loc[:, diabetes_df.columns != \"Outcome\"]\n",
    "y = np.ravel(diabetes_df.loc[:, diabetes_df.columns == \"Outcome\"])\n",
    "X_train, X_test, y_train, y_test = train_test_split(X, y, test_size = 0.2, random_state = 47)\n",
    "X_train.shape, X_test.shape"
   ]
  },
  {
   "cell_type": "code",
   "execution_count": 150,
   "id": "951e0a40",
   "metadata": {},
   "outputs": [
    {
     "data": {
      "image/png": "[encoded data removed]",
      "text/plain": [
       "<Figure size 1080x432 with 1 Axes>"
      ]
     },
     "metadata": {
      "needs_background": "light"
     },
     "output_type": "display_data"
    }
   ],
   "source": [
    "# Determine best alpha level for Lasso regression.\n",
    "scores = {}\n",
    "for alpha in np.arange(0.01, 50, 0.01):\n",
    "    lasso = Lasso(alpha = alpha, random_state = 47)\n",
    "    lasso.fit(X_train, y_train)\n",
    "    lasso_pred = lasso.predict(X_test)\n",
    "    scores[alpha] = lasso.score(X_test, y_test)\n",
    "best_alpha = max(scores, key = scores.get)\n",
    "\n",
    "# Run Lasso regression and identify coefficients demmed significant.\n",
    "lasso = Lasso(alpha = best_alpha)\n",
    "lasso_coef = lasso.fit(X, y).coef_\n",
    "\n",
    "# Plot Lasso regression coefficients.\n",
    "plt.figure(figsize=(15, 6))\n",
    "plt.bar(X.columns, lasso_coef)\n",
    "plt.xticks(rotation=30)\n",
    "plt.axhline(0, linestyle = \"--\")\n",
    "plt.xlabel(\"Predictors\", size = 12)\n",
    "plt.ylabel(\"Coefficient Value\", size = 12)\n",
    "plt.title(\"Coefficient Values from Lasso Regression\", size = 15)\n",
    "plt.show() "
   ]
  },
  {
   "cell_type": "markdown",
   "id": "e59e2bbf",
   "metadata": {},
   "source": [
    "As we can see above, predictor \"SkinThickness\" has coefficient values of 0 after running Lasso regression. We will run our models both with and without these insignificant predictors to see if this will improve our accuracy rates."
   ]
  },
  {
   "cell_type": "markdown",
   "id": "3b9a0a4d",
   "metadata": {},
   "source": [
    "### Step 3. Fit Logistic Regression Models"
   ]
  },
  {
   "cell_type": "markdown",
   "id": "8037728b",
   "metadata": {},
   "source": [
    "##### Model 1 - Logistic Regression (All variables)"
   ]
  },
  {
   "cell_type": "code",
   "execution_count": 151,
   "id": "9b692b49",
   "metadata": {},
   "outputs": [
    {
     "name": "stdout",
     "output_type": "stream",
     "text": [
      "Average Accuracy: 77.47%\n"
     ]
    }
   ],
   "source": [
    "kf = KFold(n_splits = 10, shuffle=True, random_state = 47)\n",
    "reg_model = LogisticRegression(max_iter=5000)\n",
    "y = diabetes_df[\"Outcome\"].values\n",
    "cv_results = cross_val_score(reg_model, X, y, cv = kf)\n",
    "model1_result = np.mean(cv_results)\n",
    "print(f'Average Accuracy: {round(model1_result*100, 2)}%')"
   ]
  },
  {
   "cell_type": "markdown",
   "id": "f7ead458",
   "metadata": {},
   "source": [
    "##### Model 2 - Logistic Regression (Lasso variables)"
   ]
  },
  {
   "cell_type": "code",
   "execution_count": 152,
   "id": "483d7981",
   "metadata": {},
   "outputs": [
    {
     "name": "stdout",
     "output_type": "stream",
     "text": [
      "Average Accuracy: 77.47%\n"
     ]
    }
   ],
   "source": [
    "X_lasso = X.drop(columns = [\"SkinThickness\"])\n",
    "\n",
    "kf = KFold(n_splits = 10, shuffle=True, random_state = 47)\n",
    "reg_model = LogisticRegression(max_iter=5000)\n",
    "y = diabetes_df[\"Outcome\"].values\n",
    "cv_results = cross_val_score(reg_model, X_lasso, y, cv = kf)\n",
    "model2_result = np.mean(cv_results)\n",
    "print(f'Average Accuracy: {round(model2_result*100, 2)}%')"
   ]
  },
  {
   "cell_type": "markdown",
   "id": "cd36edd5",
   "metadata": {},
   "source": [
    "Same result with Lasso variables and all variables. Let's try training/test split."
   ]
  },
  {
   "cell_type": "markdown",
   "id": "d4bfdcec",
   "metadata": {},
   "source": [
    "##### Model3 - Logistic Regression (train/test, all variables)"
   ]
  },
  {
   "cell_type": "code",
   "execution_count": 161,
   "id": "cb63b8f7",
   "metadata": {},
   "outputs": [
    {
     "name": "stdout",
     "output_type": "stream",
     "text": [
      "Accuracy Rate: 75.32%\n"
     ]
    }
   ],
   "source": [
    "log_reg = LogisticRegression(max_iter=5000).fit(X_train, y_train)\n",
    "model3_result = log_reg.score(X_test, y_test)\n",
    "print(f'Accuracy Rate: {round(model3_result*100, 2)}%')"
   ]
  },
  {
   "cell_type": "markdown",
   "id": "235f2c63",
   "metadata": {},
   "source": [
    "##### Model 4 - Logistic Regression (train/test, lasso variables)"
   ]
  },
  {
   "cell_type": "code",
   "execution_count": 160,
   "id": "fa3a02fc",
   "metadata": {},
   "outputs": [
    {
     "name": "stdout",
     "output_type": "stream",
     "text": [
      "Accuracy Rate: 75.32%\n"
     ]
    }
   ],
   "source": [
    "# Split dataset. 80% for train, 20% for test\n",
    "Xl_train, Xl_test, y_train, y_test = train_test_split(X_lasso, y, test_size = 0.2, random_state = 47)\n",
    "X_train.shape, X_test.shape\n",
    "\n",
    "log_reg = LogisticRegression(max_iter=5000).fit(Xl_train, y_train)\n",
    "model4_result = log_reg.score(Xl_test, y_test)\n",
    "print(f'Accuracy Rate: {round(model4_result*100, 2)}%')"
   ]
  },
  {
   "cell_type": "markdown",
   "id": "c6d2596c",
   "metadata": {},
   "source": [
    "##### Summary\n",
    "Although we used two sets of predictors for our model training, we found that the results of Lasso regression do not make a noticeable impact on accuracy. However, we also compared two splitting methods: k-fold cross validation and a normal 80/20 split. When using k-fold, we had more than a 2% increase in model accuracy.\n",
    "\n",
    "For all remaining models that we will compare logistic regression against, we will use all variables and conduct k-fold cross validation for deducing accuracy (when logistically reasonable)."
   ]
  },
  {
   "cell_type": "markdown",
   "id": "6ccd3611",
   "metadata": {},
   "source": [
    "### Step 4. Fit KNN Model"
   ]
  },
  {
   "cell_type": "code",
   "execution_count": 155,
   "id": "441f1906",
   "metadata": {},
   "outputs": [
    {
     "data": {
      "image/png": "[encoded data removed]",
      "text/plain": [
       "<Figure size 1080x432 with 1 Axes>"
      ]
     },
     "metadata": {
      "needs_background": "light"
     },
     "output_type": "display_data"
    }
   ],
   "source": [
    "n = np.arange(1, 100, 1)\n",
    "knn_list = []\n",
    "knn_cv_list = []\n",
    "kf = KFold(n_splits = 10, shuffle=True, random_state = 47)\n",
    "\n",
    "# Loop over K values.\n",
    "for i, k in enumerate(n):\n",
    "    knn = KNeighborsClassifier(n_neighbors=k).fit(X_train, y_train)\n",
    "    knn_accuracy = knn.score(X_test, y_test)\n",
    "    knn_list.append(knn_accuracy)\n",
    "    \n",
    "    knn_cv_score = cross_val_score(KNeighborsClassifier(n_neighbors=k), X, y, cv = kf)\n",
    "    mean_knn_acc = np.mean(knn_cv_score)\n",
    "    knn_cv_list.append(mean_knn_acc)\n",
    "    \n",
    "knn_acc = max(knn_list)\n",
    "    \n",
    "# Plot accuracy results.\n",
    "plt.figure(figsize = (15, 6))\n",
    "plt.plot(n, knn_list, label = '80/20 Split Accuracy')\n",
    "plt.plot(knn_cv_list, label = 'K-Fold Cross Validation')\n",
    "plt.legend()\n",
    "plt.xlabel('N Neighbors')\n",
    "plt.ylabel('Accuracy')\n",
    "plt.title('KNN Accuracy Rate by Neighbor Value')\n",
    "plt.show()"
   ]
  },
  {
   "cell_type": "code",
   "execution_count": 156,
   "id": "ae15fe47",
   "metadata": {
    "scrolled": true
   },
   "outputs": [
    {
     "name": "stdout",
     "output_type": "stream",
     "text": [
      "Peak Accuracy Rate: 77.92% at a neighbor count of 3 using an 80/20 split\n"
     ]
    }
   ],
   "source": [
    "print(f'Peak Accuracy Rate: {round(max(knn_list)*100, 2)}% at a neighbor count of {np.where(knn_list == max(knn_list))[0][0]} using an 80/20 split')"
   ]
  },
  {
   "cell_type": "markdown",
   "id": "628e4848",
   "metadata": {},
   "source": [
    "We have achieved a higher accuracy rate than logistic regression! Let's see if we can further top this."
   ]
  },
  {
   "cell_type": "markdown",
   "id": "7e7c0ee9",
   "metadata": {},
   "source": [
    "### Step 5. Fit SVM Model"
   ]
  },
  {
   "cell_type": "markdown",
   "id": "04c0aa9c",
   "metadata": {},
   "source": [
    "We will use a linear SVM model for our logistic regression problem. We will also use GridSearchCV to find our optimal parameters."
   ]
  },
  {
   "cell_type": "code",
   "execution_count": 157,
   "id": "7e29a605",
   "metadata": {},
   "outputs": [
    {
     "name": "stdout",
     "output_type": "stream",
     "text": [
      "Best Parameters: {'C': 1, 'gamma': 'scale', 'kernel': 'linear'}\n",
      "SVM Accuracy (with optimal parameters): 77.27%\n"
     ]
    }
   ],
   "source": [
    "# Define. parameter grid.\n",
    "param_grid = {'C': [0.1, 1, 10, 100],  \n",
    "              'gamma': [1, 0.1, 0.01, 0.001, 0.0001], \n",
    "              'gamma':['scale', 'auto'],\n",
    "              'kernel': ['linear']}  \n",
    "   \n",
    "svm = GridSearchCV(SVC(), param_grid, refit = True, cv = 10) \n",
    "   \n",
    "# Fit the model for grid search.\n",
    "svm.fit(X_train, y_train) \n",
    " \n",
    "# Print best parameters \n",
    "print(f'Best Parameters: {svm.best_params_}') \n",
    "svm_acc = svm.score(X_test, y_test)\n",
    "print(f'SVM Accuracy (with optimal parameters): {round(svm_acc*100, 2)}%')"
   ]
  },
  {
   "cell_type": "markdown",
   "id": "d5b8b820",
   "metadata": {},
   "source": [
    "Using SVM, we find that the accuracy rate is not quite as high as what we can get with KNN or logistic regression models. Let us now move on to Random Forest."
   ]
  },
  {
   "cell_type": "markdown",
   "id": "bfb17d2a",
   "metadata": {},
   "source": [
    "### Step 6. Fit Random Forest Model"
   ]
  },
  {
   "cell_type": "code",
   "execution_count": 158,
   "id": "eb820c3d",
   "metadata": {},
   "outputs": [
    {
     "name": "stdout",
     "output_type": "stream",
     "text": [
      "Random Forest Mean Accuracy: 76.83%\n"
     ]
    }
   ],
   "source": [
    "kf = KFold(n_splits = 10, shuffle=True, random_state = 47)\n",
    "rf_cv_score = cross_val_score(RandomForestClassifier(random_state = 47), X, y, cv = kf)\n",
    "rf_acc = np.mean(rf_cv_score)\n",
    "print(f\"Random Forest Mean Accuracy: {round(rf_acc*100, 2)}%\")"
   ]
  },
  {
   "cell_type": "markdown",
   "id": "6d2e11ff",
   "metadata": {},
   "source": [
    "### Step 7. Report Accuracy Rates"
   ]
  },
  {
   "cell_type": "code",
   "execution_count": 168,
   "id": "67a4ddc4",
   "metadata": {},
   "outputs": [
    {
     "data": {
      "text/html": [
       "<div>\n",
       "<style scoped>\n",
       "    .dataframe tbody tr th:only-of-type {\n",
       "        vertical-align: middle;\n",
       "    }\n",
       "\n",
       "    .dataframe tbody tr th {\n",
       "        vertical-align: top;\n",
       "    }\n",
       "\n",
       "    .dataframe thead th {\n",
       "        text-align: right;\n",
       "    }\n",
       "</style>\n",
       "<table border=\"1\" class=\"dataframe\">\n",
       "  <thead>\n",
       "    <tr style=\"text-align: right;\">\n",
       "      <th></th>\n",
       "      <th>Model</th>\n",
       "      <th>Used Lasso Results</th>\n",
       "      <th>Training Method</th>\n",
       "      <th>GridSearchCV Used</th>\n",
       "      <th>Result</th>\n",
       "    </tr>\n",
       "  </thead>\n",
       "  <tbody>\n",
       "    <tr>\n",
       "      <th>4</th>\n",
       "      <td>KNN</td>\n",
       "      <td>No</td>\n",
       "      <td>Both</td>\n",
       "      <td>No</td>\n",
       "      <td>0.779221</td>\n",
       "    </tr>\n",
       "    <tr>\n",
       "      <th>1</th>\n",
       "      <td>Logistic Regression</td>\n",
       "      <td>Yes</td>\n",
       "      <td>K-Fold</td>\n",
       "      <td>No</td>\n",
       "      <td>0.774710</td>\n",
       "    </tr>\n",
       "    <tr>\n",
       "      <th>0</th>\n",
       "      <td>Logistic Regression</td>\n",
       "      <td>No</td>\n",
       "      <td>K-Fold</td>\n",
       "      <td>No</td>\n",
       "      <td>0.774692</td>\n",
       "    </tr>\n",
       "    <tr>\n",
       "      <th>5</th>\n",
       "      <td>Linear SVM</td>\n",
       "      <td>No</td>\n",
       "      <td>K-Fold</td>\n",
       "      <td>Yes</td>\n",
       "      <td>0.772727</td>\n",
       "    </tr>\n",
       "    <tr>\n",
       "      <th>6</th>\n",
       "      <td>Random Forest</td>\n",
       "      <td>No</td>\n",
       "      <td>K-Fold</td>\n",
       "      <td>No</td>\n",
       "      <td>0.768267</td>\n",
       "    </tr>\n",
       "    <tr>\n",
       "      <th>2</th>\n",
       "      <td>Logistic Regression</td>\n",
       "      <td>No</td>\n",
       "      <td>80/20 Split</td>\n",
       "      <td>No</td>\n",
       "      <td>0.753247</td>\n",
       "    </tr>\n",
       "    <tr>\n",
       "      <th>3</th>\n",
       "      <td>Logistic Regression</td>\n",
       "      <td>Yes</td>\n",
       "      <td>80/20 Split</td>\n",
       "      <td>No</td>\n",
       "      <td>0.753247</td>\n",
       "    </tr>\n",
       "  </tbody>\n",
       "</table>\n",
       "</div>"
      ],
      "text/plain": [
       "                 Model Used Lasso Results Training Method GridSearchCV Used  \\\n",
       "4                  KNN                 No            Both                No   \n",
       "1  Logistic Regression                Yes          K-Fold                No   \n",
       "0  Logistic Regression                 No          K-Fold                No   \n",
       "5           Linear SVM                 No          K-Fold               Yes   \n",
       "6        Random Forest                 No          K-Fold                No   \n",
       "2  Logistic Regression                 No     80/20 Split                No   \n",
       "3  Logistic Regression                Yes     80/20 Split                No   \n",
       "\n",
       "     Result  \n",
       "4  0.779221  \n",
       "1  0.774710  \n",
       "0  0.774692  \n",
       "5  0.772727  \n",
       "6  0.768267  \n",
       "2  0.753247  \n",
       "3  0.753247  "
      ]
     },
     "execution_count": 168,
     "metadata": {},
     "output_type": "execute_result"
    }
   ],
   "source": [
    "data = {\"Model\": ['Logistic Regression', 'Logistic Regression', 'Logistic Regression', 'Logistic Regression', 'KNN', 'Linear SVM', 'Random Forest'], \n",
    "        \"Used Lasso Results\": ['No', 'Yes', 'No', 'Yes', 'No', 'No', 'No'],\n",
    "        \"Training Method\": ['K-Fold', 'K-Fold', '80/20 Split', '80/20 Split', 'Both', 'K-Fold', 'K-Fold'],\n",
    "        \"GridSearchCV Used\": ['No', 'No', 'No', 'No', 'No', 'Yes', 'No'], \n",
    "        \"Result\": [model1_result, model2_result, model3_result, model4_result, knn_acc, svm_acc, rf_acc]}\n",
    "acc_df = pd.DataFrame(data=data).sort_values(by=['Result'], ascending=False)\n",
    "acc_df"
   ]
  },
  {
   "cell_type": "markdown",
   "id": "6d69375e",
   "metadata": {},
   "source": [
    "### Conclusion"
   ]
  },
  {
   "cell_type": "markdown",
   "id": "7c15431f",
   "metadata": {},
   "source": [
    "While our original hypothesis was that logistic regression might perform better with this type of data, we actually see that our KNN model was the most accurate (even if by a margin of only approximately 0.45%). It should also be noted that k-fold overall produced a higher accuracy when applying to our models. This is, however, untrue with the KNN model, as can be shown in that section's visualization of accuracy rates for various values of k. Our optimal peak accuracy is 77.92%.\n",
    "\n",
    "Looking at the data as a whole, we also gained some valuable insights. Our correlation analysis saw no overly-correlated features, and the two variables that shared the closest relationship with each other are \"Age\" and \"Pregnancies\". This carries over to an intuitive understanding of why that may be. In addition, we determined through Lasso regression the most and least significant predictors for chance of diabetes, which were \"Glucose Levels\" and \"Skin Thickness\", respectively. Although Lasso regression helped us identify this information, applying it to our models carried no significant improvement, and even worsened performance in most cases. This is likely due to the low count of predictors in our dataset and how even a predictor with minimal information may still offer something worthwhile to predicting chance of diabetes."
   ]
  }
 ],
 "metadata": {
  "kernelspec": {
   "display_name": "Python 3",
   "language": "python",
   "name": "python3"
  },
  "language_info": {
   "codemirror_mode": {
    "name": "ipython",
    "version": 3
   },
   "file_extension": ".py",
   "mimetype": "text/x-python",
   "name": "python",
   "nbconvert_exporter": "python",
   "pygments_lexer": "ipython3",
   "version": "3.10.5"
  }
 },
 "nbformat": 4,
 "nbformat_minor": 5
}
